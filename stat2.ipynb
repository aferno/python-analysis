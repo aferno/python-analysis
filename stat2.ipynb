{
 "cells": [
  {
   "cell_type": "code",
   "execution_count": 250,
   "metadata": {},
   "outputs": [],
   "source": [
    "import pandas as pd\n",
    "import math\n",
    "import statsmodels.api as sm\n",
    "import matplotlib.pyplot as plt\n",
    "from scipy import stats"
   ]
  },
  {
   "cell_type": "code",
   "execution_count": 349,
   "metadata": {},
   "outputs": [
    {
     "data": {
      "text/html": [
       "<div>\n",
       "<style scoped>\n",
       "    .dataframe tbody tr th:only-of-type {\n",
       "        vertical-align: middle;\n",
       "    }\n",
       "\n",
       "    .dataframe tbody tr th {\n",
       "        vertical-align: top;\n",
       "    }\n",
       "\n",
       "    .dataframe thead th {\n",
       "        text-align: right;\n",
       "    }\n",
       "</style>\n",
       "<table border=\"1\" class=\"dataframe\">\n",
       "  <thead>\n",
       "    <tr style=\"text-align: right;\">\n",
       "      <th></th>\n",
       "      <th>Year</th>\n",
       "      <th>VVP</th>\n",
       "      <th>Earning</th>\n",
       "      <th>VVPC</th>\n",
       "    </tr>\n",
       "  </thead>\n",
       "  <tbody>\n",
       "    <tr>\n",
       "      <th>1</th>\n",
       "      <td>1997</td>\n",
       "      <td>79</td>\n",
       "      <td>106</td>\n",
       "      <td>72</td>\n",
       "    </tr>\n",
       "    <tr>\n",
       "      <th>2</th>\n",
       "      <td>1998</td>\n",
       "      <td>76</td>\n",
       "      <td>91</td>\n",
       "      <td>71</td>\n",
       "    </tr>\n",
       "    <tr>\n",
       "      <th>3</th>\n",
       "      <td>1999</td>\n",
       "      <td>75</td>\n",
       "      <td>90</td>\n",
       "      <td>71</td>\n",
       "    </tr>\n",
       "    <tr>\n",
       "      <th>4</th>\n",
       "      <td>2000</td>\n",
       "      <td>72</td>\n",
       "      <td>85</td>\n",
       "      <td>69</td>\n",
       "    </tr>\n",
       "    <tr>\n",
       "      <th>5</th>\n",
       "      <td>2001</td>\n",
       "      <td>70</td>\n",
       "      <td>82</td>\n",
       "      <td>67</td>\n",
       "    </tr>\n",
       "    <tr>\n",
       "      <th>6</th>\n",
       "      <td>2002</td>\n",
       "      <td>68</td>\n",
       "      <td>81</td>\n",
       "      <td>66</td>\n",
       "    </tr>\n",
       "    <tr>\n",
       "      <th>7</th>\n",
       "      <td>2003</td>\n",
       "      <td>66</td>\n",
       "      <td>81</td>\n",
       "      <td>63</td>\n",
       "    </tr>\n",
       "    <tr>\n",
       "      <th>8</th>\n",
       "      <td>2003</td>\n",
       "      <td>63</td>\n",
       "      <td>70</td>\n",
       "      <td>56</td>\n",
       "    </tr>\n",
       "    <tr>\n",
       "      <th>9</th>\n",
       "      <td>2004</td>\n",
       "      <td>56</td>\n",
       "      <td>51</td>\n",
       "      <td>58</td>\n",
       "    </tr>\n",
       "    <tr>\n",
       "      <th>10</th>\n",
       "      <td>2005</td>\n",
       "      <td>56</td>\n",
       "      <td>64</td>\n",
       "      <td>60</td>\n",
       "    </tr>\n",
       "    <tr>\n",
       "      <th>11</th>\n",
       "      <td>2006</td>\n",
       "      <td>59</td>\n",
       "      <td>66</td>\n",
       "      <td>57</td>\n",
       "    </tr>\n",
       "    <tr>\n",
       "      <th>12</th>\n",
       "      <td>2007</td>\n",
       "      <td>53</td>\n",
       "      <td>48</td>\n",
       "      <td>54</td>\n",
       "    </tr>\n",
       "    <tr>\n",
       "      <th>13</th>\n",
       "      <td>2008</td>\n",
       "      <td>49</td>\n",
       "      <td>43</td>\n",
       "      <td>51</td>\n",
       "    </tr>\n",
       "    <tr>\n",
       "      <th>14</th>\n",
       "      <td>2009</td>\n",
       "      <td>46</td>\n",
       "      <td>38</td>\n",
       "      <td>48</td>\n",
       "    </tr>\n",
       "    <tr>\n",
       "      <th>15</th>\n",
       "      <td>2010</td>\n",
       "      <td>41</td>\n",
       "      <td>34</td>\n",
       "      <td>45</td>\n",
       "    </tr>\n",
       "    <tr>\n",
       "      <th>16</th>\n",
       "      <td>2011</td>\n",
       "      <td>39</td>\n",
       "      <td>36</td>\n",
       "      <td>43</td>\n",
       "    </tr>\n",
       "    <tr>\n",
       "      <th>17</th>\n",
       "      <td>2012</td>\n",
       "      <td>38</td>\n",
       "      <td>42</td>\n",
       "      <td>45</td>\n",
       "    </tr>\n",
       "    <tr>\n",
       "      <th>18</th>\n",
       "      <td>2013</td>\n",
       "      <td>41</td>\n",
       "      <td>47</td>\n",
       "      <td>42</td>\n",
       "    </tr>\n",
       "    <tr>\n",
       "      <th>19</th>\n",
       "      <td>2014</td>\n",
       "      <td>36</td>\n",
       "      <td>43</td>\n",
       "      <td>40</td>\n",
       "    </tr>\n",
       "    <tr>\n",
       "      <th>20</th>\n",
       "      <td>2015</td>\n",
       "      <td>36</td>\n",
       "      <td>41</td>\n",
       "      <td>42</td>\n",
       "    </tr>\n",
       "    <tr>\n",
       "      <th>21</th>\n",
       "      <td>2016</td>\n",
       "      <td>39</td>\n",
       "      <td>52</td>\n",
       "      <td>41</td>\n",
       "    </tr>\n",
       "  </tbody>\n",
       "</table>\n",
       "</div>"
      ],
      "text/plain": [
       "    Year  VVP  Earning  VVPC\n",
       "1   1997   79      106    72\n",
       "2   1998   76       91    71\n",
       "3   1999   75       90    71\n",
       "4   2000   72       85    69\n",
       "5   2001   70       82    67\n",
       "6   2002   68       81    66\n",
       "7   2003   66       81    63\n",
       "8   2003   63       70    56\n",
       "9   2004   56       51    58\n",
       "10  2005   56       64    60\n",
       "11  2006   59       66    57\n",
       "12  2007   53       48    54\n",
       "13  2008   49       43    51\n",
       "14  2009   46       38    48\n",
       "15  2010   41       34    45\n",
       "16  2011   39       36    43\n",
       "17  2012   38       42    45\n",
       "18  2013   41       47    42\n",
       "19  2014   36       43    40\n",
       "20  2015   36       41    42\n",
       "21  2016   39       52    41"
      ]
     },
     "execution_count": 349,
     "metadata": {},
     "output_type": "execute_result"
    }
   ],
   "source": [
    "df = pd.read_csv(\"economy.csv\")\n",
    "df.index = df.index + 1\n",
    "df"
   ]
  },
  {
   "cell_type": "code",
   "execution_count": 351,
   "metadata": {},
   "outputs": [
    {
     "data": {
      "text/html": [
       "<div>\n",
       "<style scoped>\n",
       "    .dataframe tbody tr th:only-of-type {\n",
       "        vertical-align: middle;\n",
       "    }\n",
       "\n",
       "    .dataframe tbody tr th {\n",
       "        vertical-align: top;\n",
       "    }\n",
       "\n",
       "    .dataframe thead th {\n",
       "        text-align: right;\n",
       "    }\n",
       "</style>\n",
       "<table border=\"1\" class=\"dataframe\">\n",
       "  <thead>\n",
       "    <tr style=\"text-align: right;\">\n",
       "      <th></th>\n",
       "      <th>VVP</th>\n",
       "      <th>Earning</th>\n",
       "      <th>VVPC</th>\n",
       "    </tr>\n",
       "  </thead>\n",
       "  <tbody>\n",
       "    <tr>\n",
       "      <th>count</th>\n",
       "      <td>21.000000</td>\n",
       "      <td>21.000000</td>\n",
       "      <td>21.000000</td>\n",
       "    </tr>\n",
       "    <tr>\n",
       "      <th>mean</th>\n",
       "      <td>55.142857</td>\n",
       "      <td>61.476190</td>\n",
       "      <td>55.285714</td>\n",
       "    </tr>\n",
       "    <tr>\n",
       "      <th>std</th>\n",
       "      <td>14.728495</td>\n",
       "      <td>21.830298</td>\n",
       "      <td>11.252301</td>\n",
       "    </tr>\n",
       "    <tr>\n",
       "      <th>min</th>\n",
       "      <td>36.000000</td>\n",
       "      <td>34.000000</td>\n",
       "      <td>40.000000</td>\n",
       "    </tr>\n",
       "    <tr>\n",
       "      <th>25%</th>\n",
       "      <td>41.000000</td>\n",
       "      <td>43.000000</td>\n",
       "      <td>45.000000</td>\n",
       "    </tr>\n",
       "    <tr>\n",
       "      <th>50%</th>\n",
       "      <td>56.000000</td>\n",
       "      <td>52.000000</td>\n",
       "      <td>56.000000</td>\n",
       "    </tr>\n",
       "    <tr>\n",
       "      <th>75%</th>\n",
       "      <td>68.000000</td>\n",
       "      <td>81.000000</td>\n",
       "      <td>66.000000</td>\n",
       "    </tr>\n",
       "    <tr>\n",
       "      <th>max</th>\n",
       "      <td>79.000000</td>\n",
       "      <td>106.000000</td>\n",
       "      <td>72.000000</td>\n",
       "    </tr>\n",
       "  </tbody>\n",
       "</table>\n",
       "</div>"
      ],
      "text/plain": [
       "             VVP     Earning       VVPC\n",
       "count  21.000000   21.000000  21.000000\n",
       "mean   55.142857   61.476190  55.285714\n",
       "std    14.728495   21.830298  11.252301\n",
       "min    36.000000   34.000000  40.000000\n",
       "25%    41.000000   43.000000  45.000000\n",
       "50%    56.000000   52.000000  56.000000\n",
       "75%    68.000000   81.000000  66.000000\n",
       "max    79.000000  106.000000  72.000000"
      ]
     },
     "execution_count": 351,
     "metadata": {},
     "output_type": "execute_result"
    }
   ],
   "source": [
    "#df.drop(df.columns[[0]], axis=1, inplace=True)\n",
    "df.describe()"
   ]
  },
  {
   "cell_type": "code",
   "execution_count": 352,
   "metadata": {},
   "outputs": [
    {
     "name": "stdout",
     "output_type": "stream",
     "text": [
      "VVP - 53.2450805368\n",
      "Earning - 57.9051576817\n",
      "VVPC - 54.1866644721\n"
     ]
    }
   ],
   "source": [
    "print('VVP -', stats.gmean(df,axis=0)[0])\n",
    "print('Earning -', stats.gmean(df,axis=0)[1])\n",
    "print('VVPC -', stats.gmean(df,axis=0)[2])"
   ]
  },
  {
   "cell_type": "code",
   "execution_count": 353,
   "metadata": {},
   "outputs": [
    {
     "name": "stdout",
     "output_type": "stream",
     "text": [
      "VVP        216.928571\n",
      "Earning    476.561905\n",
      "VVPC       126.614286\n",
      "dtype: float64\n"
     ]
    }
   ],
   "source": [
    "print(df.var())\n",
    "#df.plot.scatter(x='X2', y='X1', c='X3', colormap='viridis')"
   ]
  },
  {
   "cell_type": "code",
   "execution_count": 354,
   "metadata": {},
   "outputs": [
    {
     "data": {
      "text/plain": [
       "VVP        56.0\n",
       "Earning    52.0\n",
       "VVPC       56.0\n",
       "dtype: float64"
      ]
     },
     "execution_count": 354,
     "metadata": {},
     "output_type": "execute_result"
    }
   ],
   "source": [
    "df.median()"
   ]
  },
  {
   "cell_type": "code",
   "execution_count": 355,
   "metadata": {
    "scrolled": true
   },
   "outputs": [
    {
     "data": {
      "text/plain": [
       "VVP        14.728495\n",
       "Earning    21.830298\n",
       "VVPC       11.252301\n",
       "dtype: float64"
      ]
     },
     "execution_count": 355,
     "metadata": {},
     "output_type": "execute_result"
    }
   ],
   "source": [
    "df.std()"
   ]
  },
  {
   "cell_type": "code",
   "execution_count": 356,
   "metadata": {},
   "outputs": [
    {
     "data": {
      "text/html": [
       "<div>\n",
       "<style scoped>\n",
       "    .dataframe tbody tr th:only-of-type {\n",
       "        vertical-align: middle;\n",
       "    }\n",
       "\n",
       "    .dataframe tbody tr th {\n",
       "        vertical-align: top;\n",
       "    }\n",
       "\n",
       "    .dataframe thead th {\n",
       "        text-align: right;\n",
       "    }\n",
       "</style>\n",
       "<table border=\"1\" class=\"dataframe\">\n",
       "  <thead>\n",
       "    <tr style=\"text-align: right;\">\n",
       "      <th></th>\n",
       "      <th>VVP</th>\n",
       "      <th>Earning</th>\n",
       "      <th>VVPC</th>\n",
       "    </tr>\n",
       "  </thead>\n",
       "  <tbody>\n",
       "    <tr>\n",
       "      <th>0</th>\n",
       "      <td>36</td>\n",
       "      <td>43.0</td>\n",
       "      <td>42.0</td>\n",
       "    </tr>\n",
       "    <tr>\n",
       "      <th>1</th>\n",
       "      <td>39</td>\n",
       "      <td>81.0</td>\n",
       "      <td>45.0</td>\n",
       "    </tr>\n",
       "    <tr>\n",
       "      <th>2</th>\n",
       "      <td>41</td>\n",
       "      <td>NaN</td>\n",
       "      <td>71.0</td>\n",
       "    </tr>\n",
       "    <tr>\n",
       "      <th>3</th>\n",
       "      <td>56</td>\n",
       "      <td>NaN</td>\n",
       "      <td>NaN</td>\n",
       "    </tr>\n",
       "  </tbody>\n",
       "</table>\n",
       "</div>"
      ],
      "text/plain": [
       "   VVP  Earning  VVPC\n",
       "0   36     43.0  42.0\n",
       "1   39     81.0  45.0\n",
       "2   41      NaN  71.0\n",
       "3   56      NaN   NaN"
      ]
     },
     "execution_count": 356,
     "metadata": {},
     "output_type": "execute_result"
    }
   ],
   "source": [
    "df.mode()"
   ]
  },
  {
   "cell_type": "code",
   "execution_count": 357,
   "metadata": {},
   "outputs": [
    {
     "data": {
      "text/plain": [
       "VVP       -1.466879\n",
       "Earning   -1.106878\n",
       "VVPC      -1.493281\n",
       "dtype: float64"
      ]
     },
     "execution_count": 357,
     "metadata": {},
     "output_type": "execute_result"
    }
   ],
   "source": [
    "df.kurtosis()"
   ]
  },
  {
   "cell_type": "code",
   "execution_count": 358,
   "metadata": {},
   "outputs": [
    {
     "name": "stdout",
     "output_type": "stream",
     "text": [
      "VVP        0.144523\n",
      "Earning    0.468483\n",
      "VVPC       0.107096\n",
      "dtype: float64\n"
     ]
    },
    {
     "data": {
      "image/png": "[encoded data removed]",
      "text/plain": [
       "<Figure size 432x288 with 1 Axes>"
      ]
     },
     "metadata": {
      "needs_background": "light"
     },
     "output_type": "display_data"
    }
   ],
   "source": [
    "skew = df.skew()\n",
    "print(skew)\n",
    "df.plot.hist(alpha=0.5, bins=15, grid=True)  # Pandas helper function to plot a hist. Uses matplotlib under the hood.\n",
    "plt.title(\"Асимметричность\")\n",
    "plt.show()"
   ]
  },
  {
   "cell_type": "code",
   "execution_count": 361,
   "metadata": {},
   "outputs": [
    {
     "name": "stdout",
     "output_type": "stream",
     "text": [
      "Среднеквадратическое отклонение -  14.728495219423179\n",
      "λ - 0.0\n",
      "λ - 0.203686795922\n",
      "λ - 0.0678955986407\n",
      "λ - 0.203686795922\n",
      "λ - 0.135791197281\n",
      "λ - 0.135791197281\n",
      "λ - 0.135791197281\n",
      "λ - 0.203686795922\n",
      "λ - 0.475269190485\n",
      "λ - 0.0\n",
      "λ - 0.203686795922\n",
      "λ - 0.407373591844\n",
      "λ - 0.271582394563\n",
      "λ - 0.203686795922\n",
      "λ - 0.339477993204\n",
      "λ - 0.135791197281\n",
      "λ - 0.0678955986407\n",
      "λ - 0.203686795922\n",
      "λ - 0.339477993204\n",
      "λ - 0.0\n",
      "λ - 0.203686795922\n"
     ]
    }
   ],
   "source": [
    "summa = 0\n",
    "prev = 1\n",
    "\n",
    "for i, row in df.iterrows():\n",
    "    summa+= (row['VVP'] - df['VVP'].mean()) ** 2\n",
    "        \n",
    "dis = math.sqrt(summa / (df['VVP'].count() - 1))\n",
    "print('Среднеквадратическое отклонение - ', dis)\n",
    "\n",
    "for i, row in df.iterrows():\n",
    "    raz = abs(row['VVP'] - df['VVP'][prev]) / dis\n",
    "    prev = i\n",
    "    print('λ -', raz)\n",
    "    "
   ]
  },
  {
   "cell_type": "code",
   "execution_count": 366,
   "metadata": {},
   "outputs": [
    {
     "name": "stdout",
     "output_type": "stream",
     "text": [
      "Лаг -  1 Значение -  0.981373286937\n",
      "Лаг -  2 Значение -  0.964370228194\n",
      "Лаг -  3 Значение -  0.961613693715\n",
      "Лаг -  4 Значение -  0.94371558181\n",
      "Лаг -  5 Значение -  0.929335153273\n",
      "Лаг -  6 Значение -  0.923449669253\n",
      "Лаг -  7 Значение -  0.933986311094\n",
      "Лаг -  8 Значение -  0.89752354335\n",
      "Лаг -  9 Значение -  0.868774601926\n",
      "Лаг -  10 Значение -  0.883887418394\n",
      "Лаг -  11 Значение -  0.818739913705\n",
      "Лаг -  12 Значение -  0.712511265007\n",
      "Лаг -  13 Значение -  0.702515263087\n",
      "Лаг -  14 Значение -  0.517542399136\n",
      "Лаг -  15 Значение -  0.370218782482\n",
      "Лаг -  16 Значение -  0.134412973091\n",
      "Лаг -  17 Значение -  0.329983164554\n",
      "Лаг -  18 Значение -  -0.693375245282\n"
     ]
    }
   ],
   "source": [
    "for i in range(1, 19):\n",
    "    print('Лаг - ', i, 'Значение - ', df['VVP'].autocorr(lag=i))"
   ]
  },
  {
   "cell_type": "code",
   "execution_count": 379,
   "metadata": {
    "scrolled": false
   },
   "outputs": [
    {
     "name": "stdout",
     "output_type": "stream",
     "text": [
      "                            OLS Regression Results                            \n",
      "==============================================================================\n",
      "Dep. Variable:                    VVP   R-squared:                       0.963\n",
      "Model:                            OLS   Adj. R-squared:                  0.961\n",
      "Method:                 Least Squares   F-statistic:                     500.1\n",
      "Date:                Wed, 16 Jan 2019   Prob (F-statistic):           4.14e-15\n",
      "Time:                        15:57:23   Log-Likelihood:                -51.039\n",
      "No. Observations:                  21   AIC:                             106.1\n",
      "Df Residuals:                      19   BIC:                             108.2\n",
      "Df Model:                           1                                         \n",
      "Covariance Type:            nonrobust                                         \n",
      "==============================================================================\n",
      "                 coef    std err          t      P>|t|      [0.025      0.975]\n",
      "------------------------------------------------------------------------------\n",
      "const         80.7714      1.308     61.746      0.000      78.033      83.509\n",
      "x1            -2.3299      0.104    -22.364      0.000      -2.548      -2.112\n",
      "==============================================================================\n",
      "Omnibus:                        1.775   Durbin-Watson:                   0.971\n",
      "Prob(Omnibus):                  0.412   Jarque-Bera (JB):                0.575\n",
      "Skew:                           0.327   Prob(JB):                        0.750\n",
      "Kurtosis:                       3.479   Cond. No.                         26.2\n",
      "==============================================================================\n",
      "\n",
      "Warnings:\n",
      "[1] Standard Errors assume that the covariance matrix of the errors is correctly specified.\n"
     ]
    }
   ],
   "source": [
    "X = [i for i in range(1, 22)]\n",
    "Y = df['VVP']\n",
    "\n",
    "X = sm.add_constant(X) # adding a constant\n",
    " \n",
    "model = sm.OLS(Y, X).fit()\n",
    "predictions = model.predict(X) \n",
    "\n",
    "print_model = model.summary()\n",
    "print(print_model)"
   ]
  },
  {
   "cell_type": "code",
   "execution_count": 381,
   "metadata": {},
   "outputs": [
    {
     "name": "stdout",
     "output_type": "stream",
     "text": [
      "                            OLS Regression Results                            \n",
      "==============================================================================\n",
      "Dep. Variable:                Earning   R-squared:                       0.793\n",
      "Model:                            OLS   Adj. R-squared:                  0.782\n",
      "Method:                 Least Squares   F-statistic:                     72.95\n",
      "Date:                Wed, 16 Jan 2019   Prob (F-statistic):           6.26e-08\n",
      "Time:                        15:58:04   Log-Likelihood:                -77.478\n",
      "No. Observations:                  21   AIC:                             159.0\n",
      "Df Residuals:                      19   BIC:                             161.0\n",
      "Df Model:                           1                                         \n",
      "Covariance Type:            nonrobust                                         \n",
      "==============================================================================\n",
      "                 coef    std err          t      P>|t|      [0.025      0.975]\n",
      "------------------------------------------------------------------------------\n",
      "const         95.9476      4.607     20.826      0.000      86.305     105.590\n",
      "x1            -3.1338      0.367     -8.541      0.000      -3.902      -2.366\n",
      "==============================================================================\n",
      "Omnibus:                        0.003   Durbin-Watson:                   0.696\n",
      "Prob(Omnibus):                  0.998   Jarque-Bera (JB):                0.138\n",
      "Skew:                          -0.013   Prob(JB):                        0.933\n",
      "Kurtosis:                       2.604   Cond. No.                         26.2\n",
      "==============================================================================\n",
      "\n",
      "Warnings:\n",
      "[1] Standard Errors assume that the covariance matrix of the errors is correctly specified.\n"
     ]
    }
   ],
   "source": [
    "X = [i for i in range(1, 22)]\n",
    "Y = df['Earning']\n",
    "\n",
    "X = sm.add_constant(X) # adding a constant\n",
    " \n",
    "model = sm.OLS(Y, X).fit()\n",
    "predictions = model.predict(X) \n",
    "\n",
    "print_model = model.summary()\n",
    "print(print_model)"
   ]
  },
  {
   "cell_type": "code",
   "execution_count": 382,
   "metadata": {},
   "outputs": [
    {
     "name": "stdout",
     "output_type": "stream",
     "text": [
      "                            OLS Regression Results                            \n",
      "==============================================================================\n",
      "Dep. Variable:                   VVPC   R-squared:                       0.964\n",
      "Model:                            OLS   Adj. R-squared:                  0.962\n",
      "Method:                 Least Squares   F-statistic:                     508.6\n",
      "Date:                Wed, 16 Jan 2019   Prob (F-statistic):           3.55e-15\n",
      "Time:                        15:58:44   Log-Likelihood:                -45.217\n",
      "No. Observations:                  21   AIC:                             94.43\n",
      "Df Residuals:                      19   BIC:                             96.52\n",
      "Df Model:                           1                                         \n",
      "Covariance Type:            nonrobust                                         \n",
      "==============================================================================\n",
      "                 coef    std err          t      P>|t|      [0.025      0.975]\n",
      "------------------------------------------------------------------------------\n",
      "const         74.8714      0.991     75.524      0.000      72.796      76.946\n",
      "x1            -1.7805      0.079    -22.552      0.000      -1.946      -1.615\n",
      "==============================================================================\n",
      "Omnibus:                        0.766   Durbin-Watson:                   1.097\n",
      "Prob(Omnibus):                  0.682   Jarque-Bera (JB):                0.687\n",
      "Skew:                          -0.388   Prob(JB):                        0.709\n",
      "Kurtosis:                       2.574   Cond. No.                         26.2\n",
      "==============================================================================\n",
      "\n",
      "Warnings:\n",
      "[1] Standard Errors assume that the covariance matrix of the errors is correctly specified.\n"
     ]
    }
   ],
   "source": [
    "X = [i for i in range(1, 22)]\n",
    "Y = df['VVPC']\n",
    "\n",
    "X = sm.add_constant(X) # adding a constant\n",
    " \n",
    "model = sm.OLS(Y, X).fit()\n",
    "predictions = model.predict(X) \n",
    "\n",
    "print_model = model.summary()\n",
    "print(print_model)"
   ]
  },
  {
   "cell_type": "code",
   "execution_count": 401,
   "metadata": {
    "scrolled": false
   },
   "outputs": [
    {
     "name": "stdout",
     "output_type": "stream",
     "text": [
      "    VVP     VVPT  ВВП случ состав\n",
      "1    79  78.4415           0.5585\n",
      "2    76  76.1116          -0.1116\n",
      "3    75  73.7817           1.2183\n",
      "4    72  71.4518           0.5482\n",
      "5    70  69.1219           0.8781\n",
      "6    68  66.7920           1.2080\n",
      "7    66  64.4621           1.5379\n",
      "8    63  62.1322           0.8678\n",
      "9    56  59.8023          -3.8023\n",
      "10   56  57.4724          -1.4724\n",
      "11   59  55.1425           3.8575\n",
      "12   53  52.8126           0.1874\n",
      "13   49  50.4827          -1.4827\n",
      "14   46  48.1528          -2.1528\n",
      "15   41  45.8229          -4.8229\n",
      "16   39  43.4930          -4.4930\n",
      "17   38  41.1631          -3.1631\n",
      "18   41  38.8332           2.1668\n",
      "19   36  36.5033          -0.5033\n",
      "20   36  34.1734           1.8266\n",
      "21   39  31.8435           7.1565\n"
     ]
    }
   ],
   "source": [
    "trends = pd.DataFrame({'VVP': df['VVP'], \n",
    "                       'VVPT': [i * -2.3299 + 80.7714 for i, row in df.iterrows()]\n",
    "                      })\n",
    "\n",
    "trends['ВВП случ состав'] = [row['VVP'] - trends['VVPT'][i] for i, row in df.iterrows()]\n",
    "\n",
    "print(trends)\n",
    "#trends.head(32)"
   ]
  },
  {
   "cell_type": "code",
   "execution_count": 389,
   "metadata": {},
   "outputs": [
    {
     "name": "stdout",
     "output_type": "stream",
     "text": [
      "    Earning  EarningT  Доход случ состав\n",
      "1       106   92.8138            13.1862\n",
      "2        91   89.6800             1.3200\n",
      "3        90   86.5462             3.4538\n",
      "4        85   83.4124             1.5876\n",
      "5        82   80.2786             1.7214\n",
      "6        81   77.1448             3.8552\n",
      "7        81   74.0110             6.9890\n",
      "8        70   70.8772            -0.8772\n",
      "9        51   67.7434           -16.7434\n",
      "10       64   64.6096            -0.6096\n",
      "11       66   61.4758             4.5242\n",
      "12       48   58.3420           -10.3420\n",
      "13       43   55.2082           -12.2082\n",
      "14       38   52.0744           -14.0744\n",
      "15       34   48.9406           -14.9406\n",
      "16       36   45.8068            -9.8068\n",
      "17       42   42.6730            -0.6730\n",
      "18       47   39.5392             7.4608\n",
      "19       43   36.4054             6.5946\n",
      "20       41   33.2716             7.7284\n",
      "21       52   30.1378            21.8622\n"
     ]
    }
   ],
   "source": [
    "trends = pd.DataFrame({'Earning': df['Earning'], \n",
    "                       'EarningT': [i * -3.1338 + 95.9476 for i, row in df.iterrows()]\n",
    "                      })\n",
    "\n",
    "trends['Доход случ состав'] = [row['Earning'] - trends['EarningT'][i] for i, row in df.iterrows()]\n",
    "\n",
    "print(trends)"
   ]
  },
  {
   "cell_type": "code",
   "execution_count": 402,
   "metadata": {},
   "outputs": [
    {
     "name": "stdout",
     "output_type": "stream",
     "text": [
      "    VVPC    VVPCT  ВВП на душу населения случ состав\n",
      "1     72  73.0909                            -1.0909\n",
      "2     71  71.3104                            -0.3104\n",
      "3     71  69.5299                             1.4701\n",
      "4     69  67.7494                             1.2506\n",
      "5     67  65.9689                             1.0311\n",
      "6     66  64.1884                             1.8116\n",
      "7     63  62.4079                             0.5921\n",
      "8     56  60.6274                            -4.6274\n",
      "9     58  58.8469                            -0.8469\n",
      "10    60  57.0664                             2.9336\n",
      "11    57  55.2859                             1.7141\n",
      "12    54  53.5054                             0.4946\n",
      "13    51  51.7249                            -0.7249\n",
      "14    48  49.9444                            -1.9444\n",
      "15    45  48.1639                            -3.1639\n",
      "16    43  46.3834                            -3.3834\n",
      "17    45  44.6029                             0.3971\n",
      "18    42  42.8224                            -0.8224\n",
      "19    40  41.0419                            -1.0419\n",
      "20    42  39.2614                             2.7386\n",
      "21    41  37.4809                             3.5191\n"
     ]
    }
   ],
   "source": [
    "trends = pd.DataFrame({'VVPC': df['VVPC'], \n",
    "                       'VVPCT': [i * -1.7805 + 74.8714 for i, row in df.iterrows()]\n",
    "                      })\n",
    "\n",
    "trends['ВВП на душу населения случ состав'] = [row['VVPC'] - trends['VVPCT'][i] for i, row in df.iterrows()]\n",
    "\n",
    "print(trends)"
   ]
  },
  {
   "cell_type": "code",
   "execution_count": 369,
   "metadata": {
    "scrolled": true
   },
   "outputs": [
    {
     "data": {
      "image/png": "[encoded data removed]",
      "text/plain": [
       "<Figure size 288x288 with 2 Axes>"
      ]
     },
     "metadata": {
      "needs_background": "light"
     },
     "output_type": "display_data"
    }
   ],
   "source": [
    "plt.matshow(df.corr())\n",
    "plt.xticks(range(len(df.columns)), df.columns)\n",
    "plt.yticks(range(len(df.columns)), df.columns)\n",
    "plt.colorbar()\n",
    "plt.show()"
   ]
  },
  {
   "cell_type": "code",
   "execution_count": 370,
   "metadata": {},
   "outputs": [
    {
     "data": {
      "text/html": [
       "<style  type=\"text/css\" >\n",
       "    #T_a7355368_1990_11e9_bd3f_0242ac110002row0_col0 {\n",
       "            background-color:  #023858;\n",
       "        }    #T_a7355368_1990_11e9_bd3f_0242ac110002row0_col1 {\n",
       "            background-color:  #bbc7e0;\n",
       "        }    #T_a7355368_1990_11e9_bd3f_0242ac110002row0_col2 {\n",
       "            background-color:  #05659f;\n",
       "        }    #T_a7355368_1990_11e9_bd3f_0242ac110002row1_col0 {\n",
       "            background-color:  #fff7fb;\n",
       "        }    #T_a7355368_1990_11e9_bd3f_0242ac110002row1_col1 {\n",
       "            background-color:  #023858;\n",
       "        }    #T_a7355368_1990_11e9_bd3f_0242ac110002row1_col2 {\n",
       "            background-color:  #fff7fb;\n",
       "        }    #T_a7355368_1990_11e9_bd3f_0242ac110002row2_col0 {\n",
       "            background-color:  #0f76b3;\n",
       "        }    #T_a7355368_1990_11e9_bd3f_0242ac110002row2_col1 {\n",
       "            background-color:  #fff7fb;\n",
       "        }    #T_a7355368_1990_11e9_bd3f_0242ac110002row2_col2 {\n",
       "            background-color:  #023858;\n",
       "        }</style>  \n",
       "<table id=\"T_a7355368_1990_11e9_bd3f_0242ac110002\" > \n",
       "<thead>    <tr> \n",
       "        <th class=\"blank level0\" ></th> \n",
       "        <th class=\"col_heading level0 col0\" >VVP</th> \n",
       "        <th class=\"col_heading level0 col1\" >Earning</th> \n",
       "        <th class=\"col_heading level0 col2\" >VVPC</th> \n",
       "    </tr></thead> \n",
       "<tbody>    <tr> \n",
       "        <th id=\"T_a7355368_1990_11e9_bd3f_0242ac110002level0_row0\" class=\"row_heading level0 row0\" >VVP</th> \n",
       "        <td id=\"T_a7355368_1990_11e9_bd3f_0242ac110002row0_col0\" class=\"data row0 col0\" >1</td> \n",
       "        <td id=\"T_a7355368_1990_11e9_bd3f_0242ac110002row0_col1\" class=\"data row0 col1\" >0.945576</td> \n",
       "        <td id=\"T_a7355368_1990_11e9_bd3f_0242ac110002row0_col2\" class=\"data row0 col2\" >0.985082</td> \n",
       "    </tr>    <tr> \n",
       "        <th id=\"T_a7355368_1990_11e9_bd3f_0242ac110002level0_row1\" class=\"row_heading level0 row1\" >Earning</th> \n",
       "        <td id=\"T_a7355368_1990_11e9_bd3f_0242ac110002row1_col0\" class=\"data row1 col0\" >0.945576</td> \n",
       "        <td id=\"T_a7355368_1990_11e9_bd3f_0242ac110002row1_col1\" class=\"data row1 col1\" >1</td> \n",
       "        <td id=\"T_a7355368_1990_11e9_bd3f_0242ac110002row1_col2\" class=\"data row1 col2\" >0.920478</td> \n",
       "    </tr>    <tr> \n",
       "        <th id=\"T_a7355368_1990_11e9_bd3f_0242ac110002level0_row2\" class=\"row_heading level0 row2\" >VVPC</th> \n",
       "        <td id=\"T_a7355368_1990_11e9_bd3f_0242ac110002row2_col0\" class=\"data row2 col0\" >0.985082</td> \n",
       "        <td id=\"T_a7355368_1990_11e9_bd3f_0242ac110002row2_col1\" class=\"data row2 col1\" >0.920478</td> \n",
       "        <td id=\"T_a7355368_1990_11e9_bd3f_0242ac110002row2_col2\" class=\"data row2 col2\" >1</td> \n",
       "    </tr></tbody> \n",
       "</table> "
      ],
      "text/plain": [
       "<pandas.io.formats.style.Styler at 0x7f43c862f2e8>"
      ]
     },
     "execution_count": 370,
     "metadata": {},
     "output_type": "execute_result"
    }
   ],
   "source": [
    "corr = df.corr()\n",
    "corr.style.background_gradient()"
   ]
  },
  {
   "cell_type": "code",
   "execution_count": 372,
   "metadata": {},
   "outputs": [
    {
     "name": "stdout",
     "output_type": "stream",
     "text": [
      "Показатель 1 =  2.930658 Показатель 2 =  2.866054 Показатель 3 =  2.90556\n"
     ]
    }
   ],
   "source": [
    "first = 1 + 0.945576 + 0.985082\n",
    "second = 0.945576 + 1 + 0.920478\n",
    "third = 0.985082 + 0.920478 + 1\n",
    "print('Показатель 1 = ', first, 'Показатель 2 = ', second, 'Показатель 3 = ', third)"
   ]
  },
  {
   "cell_type": "code",
   "execution_count": 373,
   "metadata": {
    "scrolled": false
   },
   "outputs": [
    {
     "data": {
      "image/png": "[encoded data removed]",
      "text/plain": [
       "<Figure size 432x432 with 9 Axes>"
      ]
     },
     "metadata": {
      "needs_background": "light"
     },
     "output_type": "display_data"
    }
   ],
   "source": [
    "pd.plotting.scatter_matrix(df, figsize=(6, 6))\n",
    "plt.show()"
   ]
  },
  {
   "cell_type": "code",
   "execution_count": 400,
   "metadata": {
    "scrolled": false
   },
   "outputs": [
    {
     "name": "stdout",
     "output_type": "stream",
     "text": [
      "                            OLS Regression Results                            \n",
      "==============================================================================\n",
      "Dep. Variable:                    VVP   R-squared:                       0.980\n",
      "Model:                            OLS   Adj. R-squared:                  0.978\n",
      "Method:                 Least Squares   F-statistic:                     446.9\n",
      "Date:                Wed, 16 Jan 2019   Prob (F-statistic):           4.55e-16\n",
      "Time:                        16:15:59   Log-Likelihood:                -44.558\n",
      "No. Observations:                  21   AIC:                             95.12\n",
      "Df Residuals:                      18   BIC:                             98.25\n",
      "Df Model:                           2                                         \n",
      "Covariance Type:            nonrobust                                         \n",
      "==============================================================================\n",
      "                 coef    std err          t      P>|t|      [0.025      0.975]\n",
      "------------------------------------------------------------------------------\n",
      "const         -9.7525      3.241     -3.009      0.008     -16.562      -2.943\n",
      "Earning        0.1715      0.057      3.000      0.008       0.051       0.292\n",
      "VVPC           0.9831      0.111      8.863      0.000       0.750       1.216\n",
      "==============================================================================\n",
      "Omnibus:                        4.539   Durbin-Watson:                   2.042\n",
      "Prob(Omnibus):                  0.103   Jarque-Bera (JB):                2.825\n",
      "Skew:                           0.344   Prob(JB):                        0.244\n",
      "Kurtosis:                       4.660   Cond. No.                         584.\n",
      "==============================================================================\n",
      "\n",
      "Warnings:\n",
      "[1] Standard Errors assume that the covariance matrix of the errors is correctly specified.\n"
     ]
    }
   ],
   "source": [
    "X = df[['Earning','VVPC']]\n",
    "Y = df['VVP']\n",
    "\n",
    "X = sm.add_constant(X) # adding a constant\n",
    " \n",
    "model = sm.OLS(Y, X).fit()\n",
    "predictions = model.predict(X) \n",
    "\n",
    "print_model = model.summary()\n",
    "print(print_model)"
   ]
  },
  {
   "cell_type": "code",
   "execution_count": 411,
   "metadata": {},
   "outputs": [
    {
     "name": "stdout",
     "output_type": "stream",
     "text": [
      "ВВП модель - 1 Значение - 78.02073049\n",
      "Доходы Тренд - 1 Значение - 92.8138\n",
      "ВВП на на душу Тренд - 1 Значение - 73.09089999999999\n",
      "----------\n",
      "ВВП модель - 2 Значение - 75.73287423999999\n",
      "Доходы Тренд - 2 Значение - 89.67999999999999\n",
      "ВВП на на душу Тренд - 2 Значение - 71.31039999999999\n",
      "----------\n",
      "ВВП модель - 3 Значение - 73.44501799\n",
      "Доходы Тренд - 3 Значение - 86.5462\n",
      "ВВП на на душу Тренд - 3 Значение - 69.5299\n",
      "----------\n",
      "ВВП модель - 4 Значение - 71.15716173999999\n",
      "Доходы Тренд - 4 Значение - 83.41239999999999\n",
      "ВВП на на душу Тренд - 4 Значение - 67.7494\n",
      "----------\n",
      "ВВП модель - 5 Значение - 68.86930548999999\n",
      "Доходы Тренд - 5 Значение - 80.2786\n",
      "ВВП на на душу Тренд - 5 Значение - 65.96889999999999\n",
      "----------\n",
      "ВВП модель - 6 Значение - 66.58144924\n",
      "Доходы Тренд - 6 Значение - 77.1448\n",
      "ВВП на на душу Тренд - 6 Значение - 64.1884\n",
      "----------\n",
      "ВВП модель - 7 Значение - 64.29359299000001\n",
      "Доходы Тренд - 7 Значение - 74.011\n",
      "ВВП на на душу Тренд - 7 Значение - 62.4079\n",
      "----------\n",
      "ВВП модель - 8 Значение - 62.00573673999999\n",
      "Доходы Тренд - 8 Значение - 70.87719999999999\n",
      "ВВП на на душу Тренд - 8 Значение - 60.627399999999994\n",
      "----------\n",
      "ВВП модель - 9 Значение - 59.71788049\n",
      "Доходы Тренд - 9 Значение - 67.7434\n",
      "ВВП на на душу Тренд - 9 Значение - 58.84689999999999\n",
      "----------\n",
      "ВВП модель - 10 Значение - 57.430024239999995\n",
      "Доходы Тренд - 10 Значение - 64.6096\n",
      "ВВП на на душу Тренд - 10 Значение - 57.066399999999994\n",
      "----------\n",
      "ВВП модель - 11 Значение - 55.14216798999999\n",
      "Доходы Тренд - 11 Значение - 61.47579999999999\n",
      "ВВП на на душу Тренд - 11 Значение - 55.2859\n",
      "----------\n",
      "ВВП модель - 12 Значение - 52.85431174\n",
      "Доходы Тренд - 12 Значение - 58.342\n",
      "ВВП на на душу Тренд - 12 Значение - 53.505399999999995\n",
      "----------\n",
      "ВВП модель - 13 Значение - 50.56645548999999\n",
      "Доходы Тренд - 13 Значение - 55.2082\n",
      "ВВП на на душу Тренд - 13 Значение - 51.72489999999999\n",
      "----------\n",
      "ВВП модель - 14 Значение - 48.27859924\n",
      "Доходы Тренд - 14 Значение - 52.0744\n",
      "ВВП на на душу Тренд - 14 Значение - 49.944399999999995\n",
      "----------\n",
      "ВВП модель - 15 Значение - 45.990742989999994\n",
      "Доходы Тренд - 15 Значение - 48.940599999999996\n",
      "ВВП на на душу Тренд - 15 Значение - 48.1639\n",
      "----------\n",
      "ВВП модель - 16 Значение - 43.70288674\n",
      "Доходы Тренд - 16 Значение - 45.806799999999996\n",
      "ВВП на на душу Тренд - 16 Значение - 46.383399999999995\n",
      "----------\n",
      "ВВП модель - 17 Значение - 41.41503048999999\n",
      "Доходы Тренд - 17 Значение - 42.672999999999995\n",
      "ВВП на на душу Тренд - 17 Значение - 44.60289999999999\n",
      "----------\n",
      "ВВП модель - 18 Значение - 39.127174239999995\n",
      "Доходы Тренд - 18 Значение - 39.539199999999994\n",
      "ВВП на на душу Тренд - 18 Значение - 42.822399999999995\n",
      "----------\n",
      "ВВП модель - 19 Значение - 36.83931799\n",
      "Доходы Тренд - 19 Значение - 36.40539999999999\n",
      "ВВП на на душу Тренд - 19 Значение - 41.0419\n",
      "----------\n",
      "ВВП модель - 20 Значение - 34.55146173999999\n",
      "Доходы Тренд - 20 Значение - 33.27159999999999\n",
      "ВВП на на душу Тренд - 20 Значение - 39.261399999999995\n",
      "----------\n",
      "ВВП модель - 21 Значение - 32.26360548999999\n",
      "Доходы Тренд - 21 Значение - 30.1378\n",
      "ВВП на на душу Тренд - 21 Значение - 37.48089999999999\n",
      "----------\n",
      "ВВП модель - 22 Значение - 29.97574924\n",
      "Доходы Тренд - 22 Значение - 27.00399999999999\n",
      "ВВП на на душу Тренд - 22 Значение - 35.700399999999995\n",
      "----------\n",
      "ВВП модель - 23 Значение - 27.68789299\n",
      "Доходы Тренд - 23 Значение - 23.870199999999997\n",
      "ВВП на на душу Тренд - 23 Значение - 33.9199\n",
      "----------\n",
      "ВВП модель - 24 Значение - 25.400036739999997\n",
      "Доходы Тренд - 24 Значение - 20.736400000000003\n",
      "ВВП на на душу Тренд - 24 Значение - 32.139399999999995\n",
      "----------\n",
      "ВВП модель - 25 Значение - 23.112180489999993\n",
      "Доходы Тренд - 25 Значение - 17.602599999999995\n",
      "ВВП на на душу Тренд - 25 Значение - 30.35889999999999\n",
      "----------\n"
     ]
    }
   ],
   "source": [
    "trendEarning = 0\n",
    "trendVVPC = 0\n",
    "\n",
    "for i in range(1, 26):\n",
    "    trendEarning = i * -3.1338 + 95.9476    \n",
    "    trendVVPC = i * -1.7805 + 74.8714\n",
    "    predict = trendEarning * 0.1715 + 0.9831 * trendVVPC - 9.7525\n",
    "    print('ВВП модель -', i, 'Значение -', predict)\n",
    "    print('Доходы Тренд -', i, 'Значение -', trendEarning)\n",
    "    print('ВВП на на душу Тренд -', i, 'Значение -', trendVVPC)\n",
    "    print('----------')"
   ]
  },
  {
   "cell_type": "code",
   "execution_count": null,
   "metadata": {},
   "outputs": [],
   "source": []
  }
 ],
 "metadata": {
  "kernelspec": {
   "display_name": "Python 3",
   "language": "python",
   "name": "python3"
  },
  "language_info": {
   "codemirror_mode": {
    "name": "ipython",
    "version": 3
   },
   "file_extension": ".py",
   "mimetype": "text/x-python",
   "name": "python",
   "nbconvert_exporter": "python",
   "pygments_lexer": "ipython3",
   "version": "3.6.7"
  }
 },
 "nbformat": 4,
 "nbformat_minor": 2
}
